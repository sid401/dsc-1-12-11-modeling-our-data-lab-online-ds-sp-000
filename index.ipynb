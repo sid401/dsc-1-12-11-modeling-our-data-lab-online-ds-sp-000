{
 "cells": [
  {
   "cell_type": "markdown",
   "metadata": {},
   "source": [
    "# Modeling Our Data - Lab"
   ]
  },
  {
   "cell_type": "markdown",
   "metadata": {},
   "source": [
    "## Introduction \n",
    "\n",
    "In this lab we'll perform a full linear regression on our data. We'll take a stepwise approach and we'll try to improve our model as we go."
   ]
  },
  {
   "cell_type": "markdown",
   "metadata": {},
   "source": [
    "## Objectives\n",
    "You will be able to:\n",
    "\n",
    "* Remove predictors with p-values too high and refit the model\n",
    "* Examine and interpret the model results\n",
    "* Split data into training and testing sets\n",
    "* Fit a regression model to the data set using statsmodel library\n"
   ]
  },
  {
   "cell_type": "markdown",
   "metadata": {},
   "source": [
    "## Build single linear regression models\n",
    "\n",
    "From the previous steps, it is pretty clear that we have quite a few predictors, but there are some issues with them. Linearity with the target \"Weekly_Sales\" wasn't apparent. If that's the case, it's always smart to start small, and go ahead and build linear regression models with just one input at the time. Somewhat like what we've done in section 10, let's look at some statistics for single linear regression models for all our *continuous* variables with the outcome.\n",
    "\n",
    "**Note: for now, we will not use holdout validation, as we're just trying to gauge interpretation and a sense of predictive capacity for each of the candidate predictors**"
   ]
  },
  {
   "cell_type": "markdown",
   "metadata": {},
   "source": [
    "### Load the cleaned dataset \"walmart_dataset.csv\", and check its contents "
   ]
  },
  {
   "cell_type": "code",
   "execution_count": 40,
   "metadata": {},
   "outputs": [],
   "source": [
    "import pandas as pd\n",
    "import matplotlib.pyplot as plt\n",
    "import numpy as np\n",
    "import seaborn as sns"
   ]
  },
  {
   "cell_type": "code",
   "execution_count": 41,
   "metadata": {},
   "outputs": [],
   "source": [
    "walmart = pd.read_csv('walmart_dataset_cleaned.csv')"
   ]
  },
  {
   "cell_type": "code",
   "execution_count": 42,
   "metadata": {},
   "outputs": [
    {
     "data": {
      "text/html": [
       "<div>\n",
       "<style scoped>\n",
       "    .dataframe tbody tr th:only-of-type {\n",
       "        vertical-align: middle;\n",
       "    }\n",
       "\n",
       "    .dataframe tbody tr th {\n",
       "        vertical-align: top;\n",
       "    }\n",
       "\n",
       "    .dataframe thead th {\n",
       "        text-align: right;\n",
       "    }\n",
       "</style>\n",
       "<table border=\"1\" class=\"dataframe\">\n",
       "  <thead>\n",
       "    <tr style=\"text-align: right;\">\n",
       "      <th></th>\n",
       "      <th>Weekly_Sales</th>\n",
       "      <th>IsHoliday</th>\n",
       "      <th>Size</th>\n",
       "      <th>Temperature</th>\n",
       "      <th>Fuel_Price</th>\n",
       "      <th>CPI</th>\n",
       "      <th>Unemployment</th>\n",
       "      <th>Store_1</th>\n",
       "      <th>Store_10</th>\n",
       "      <th>Store_2</th>\n",
       "      <th>...</th>\n",
       "      <th>binned_markdown_4_41-60%</th>\n",
       "      <th>binned_markdown_4_61-80%</th>\n",
       "      <th>binned_markdown_4_81-100%</th>\n",
       "      <th>binned_markdown_4_NaN</th>\n",
       "      <th>binned_markdown_5_0-20%</th>\n",
       "      <th>binned_markdown_5_21-40%</th>\n",
       "      <th>binned_markdown_5_41-60%</th>\n",
       "      <th>binned_markdown_5_61-80%</th>\n",
       "      <th>binned_markdown_5_81-100%</th>\n",
       "      <th>binned_markdown_5_NaN</th>\n",
       "    </tr>\n",
       "  </thead>\n",
       "  <tbody>\n",
       "    <tr>\n",
       "      <th>0</th>\n",
       "      <td>24924.50</td>\n",
       "      <td>False</td>\n",
       "      <td>0.283436</td>\n",
       "      <td>-1.301205</td>\n",
       "      <td>-1.56024</td>\n",
       "      <td>0.40349</td>\n",
       "      <td>0.913194</td>\n",
       "      <td>1</td>\n",
       "      <td>0</td>\n",
       "      <td>0</td>\n",
       "      <td>...</td>\n",
       "      <td>0</td>\n",
       "      <td>0</td>\n",
       "      <td>0</td>\n",
       "      <td>1</td>\n",
       "      <td>0</td>\n",
       "      <td>0</td>\n",
       "      <td>0</td>\n",
       "      <td>0</td>\n",
       "      <td>0</td>\n",
       "      <td>1</td>\n",
       "    </tr>\n",
       "    <tr>\n",
       "      <th>1</th>\n",
       "      <td>50605.27</td>\n",
       "      <td>False</td>\n",
       "      <td>0.283436</td>\n",
       "      <td>-1.301205</td>\n",
       "      <td>-1.56024</td>\n",
       "      <td>0.40349</td>\n",
       "      <td>0.913194</td>\n",
       "      <td>1</td>\n",
       "      <td>0</td>\n",
       "      <td>0</td>\n",
       "      <td>...</td>\n",
       "      <td>0</td>\n",
       "      <td>0</td>\n",
       "      <td>0</td>\n",
       "      <td>1</td>\n",
       "      <td>0</td>\n",
       "      <td>0</td>\n",
       "      <td>0</td>\n",
       "      <td>0</td>\n",
       "      <td>0</td>\n",
       "      <td>1</td>\n",
       "    </tr>\n",
       "    <tr>\n",
       "      <th>2</th>\n",
       "      <td>13740.12</td>\n",
       "      <td>False</td>\n",
       "      <td>0.283436</td>\n",
       "      <td>-1.301205</td>\n",
       "      <td>-1.56024</td>\n",
       "      <td>0.40349</td>\n",
       "      <td>0.913194</td>\n",
       "      <td>1</td>\n",
       "      <td>0</td>\n",
       "      <td>0</td>\n",
       "      <td>...</td>\n",
       "      <td>0</td>\n",
       "      <td>0</td>\n",
       "      <td>0</td>\n",
       "      <td>1</td>\n",
       "      <td>0</td>\n",
       "      <td>0</td>\n",
       "      <td>0</td>\n",
       "      <td>0</td>\n",
       "      <td>0</td>\n",
       "      <td>1</td>\n",
       "    </tr>\n",
       "    <tr>\n",
       "      <th>3</th>\n",
       "      <td>39954.04</td>\n",
       "      <td>False</td>\n",
       "      <td>0.283436</td>\n",
       "      <td>-1.301205</td>\n",
       "      <td>-1.56024</td>\n",
       "      <td>0.40349</td>\n",
       "      <td>0.913194</td>\n",
       "      <td>1</td>\n",
       "      <td>0</td>\n",
       "      <td>0</td>\n",
       "      <td>...</td>\n",
       "      <td>0</td>\n",
       "      <td>0</td>\n",
       "      <td>0</td>\n",
       "      <td>1</td>\n",
       "      <td>0</td>\n",
       "      <td>0</td>\n",
       "      <td>0</td>\n",
       "      <td>0</td>\n",
       "      <td>0</td>\n",
       "      <td>1</td>\n",
       "    </tr>\n",
       "    <tr>\n",
       "      <th>4</th>\n",
       "      <td>32229.38</td>\n",
       "      <td>False</td>\n",
       "      <td>0.283436</td>\n",
       "      <td>-1.301205</td>\n",
       "      <td>-1.56024</td>\n",
       "      <td>0.40349</td>\n",
       "      <td>0.913194</td>\n",
       "      <td>1</td>\n",
       "      <td>0</td>\n",
       "      <td>0</td>\n",
       "      <td>...</td>\n",
       "      <td>0</td>\n",
       "      <td>0</td>\n",
       "      <td>0</td>\n",
       "      <td>1</td>\n",
       "      <td>0</td>\n",
       "      <td>0</td>\n",
       "      <td>0</td>\n",
       "      <td>0</td>\n",
       "      <td>0</td>\n",
       "      <td>1</td>\n",
       "    </tr>\n",
       "  </tbody>\n",
       "</table>\n",
       "<p>5 rows × 127 columns</p>\n",
       "</div>"
      ],
      "text/plain": [
       "   Weekly_Sales  IsHoliday      Size  Temperature  Fuel_Price      CPI  \\\n",
       "0      24924.50      False  0.283436    -1.301205    -1.56024  0.40349   \n",
       "1      50605.27      False  0.283436    -1.301205    -1.56024  0.40349   \n",
       "2      13740.12      False  0.283436    -1.301205    -1.56024  0.40349   \n",
       "3      39954.04      False  0.283436    -1.301205    -1.56024  0.40349   \n",
       "4      32229.38      False  0.283436    -1.301205    -1.56024  0.40349   \n",
       "\n",
       "   Unemployment  Store_1  Store_10  Store_2          ...            \\\n",
       "0      0.913194        1         0        0          ...             \n",
       "1      0.913194        1         0        0          ...             \n",
       "2      0.913194        1         0        0          ...             \n",
       "3      0.913194        1         0        0          ...             \n",
       "4      0.913194        1         0        0          ...             \n",
       "\n",
       "   binned_markdown_4_41-60%  binned_markdown_4_61-80%  \\\n",
       "0                         0                         0   \n",
       "1                         0                         0   \n",
       "2                         0                         0   \n",
       "3                         0                         0   \n",
       "4                         0                         0   \n",
       "\n",
       "   binned_markdown_4_81-100%  binned_markdown_4_NaN  binned_markdown_5_0-20%  \\\n",
       "0                          0                      1                        0   \n",
       "1                          0                      1                        0   \n",
       "2                          0                      1                        0   \n",
       "3                          0                      1                        0   \n",
       "4                          0                      1                        0   \n",
       "\n",
       "   binned_markdown_5_21-40%  binned_markdown_5_41-60%  \\\n",
       "0                         0                         0   \n",
       "1                         0                         0   \n",
       "2                         0                         0   \n",
       "3                         0                         0   \n",
       "4                         0                         0   \n",
       "\n",
       "   binned_markdown_5_61-80%  binned_markdown_5_81-100%  binned_markdown_5_NaN  \n",
       "0                         0                          0                      1  \n",
       "1                         0                          0                      1  \n",
       "2                         0                          0                      1  \n",
       "3                         0                          0                      1  \n",
       "4                         0                          0                      1  \n",
       "\n",
       "[5 rows x 127 columns]"
      ]
     },
     "execution_count": 42,
     "metadata": {},
     "output_type": "execute_result"
    }
   ],
   "source": [
    "walmart.head()"
   ]
  },
  {
   "cell_type": "markdown",
   "metadata": {},
   "source": [
    "Let's pull up the info."
   ]
  },
  {
   "cell_type": "code",
   "execution_count": 43,
   "metadata": {},
   "outputs": [
    {
     "name": "stdout",
     "output_type": "stream",
     "text": [
      "<class 'pandas.core.frame.DataFrame'>\n",
      "RangeIndex: 97839 entries, 0 to 97838\n",
      "Columns: 127 entries, Weekly_Sales to binned_markdown_5_NaN\n",
      "dtypes: bool(1), float64(6), int64(120)\n",
      "memory usage: 94.1 MB\n"
     ]
    }
   ],
   "source": [
    "walmart.info()"
   ]
  },
  {
   "cell_type": "markdown",
   "metadata": {},
   "source": [
    "Note that the output for info is much smaller compared to what we usually see. Because we have so many columns, pandas is intentionally not showing the data types for each column. Let's use `info()` again, but now just on the first 15 columns of the data."
   ]
  },
  {
   "cell_type": "code",
   "execution_count": 44,
   "metadata": {},
   "outputs": [
    {
     "name": "stdout",
     "output_type": "stream",
     "text": [
      "<class 'pandas.core.frame.DataFrame'>\n",
      "RangeIndex: 97839 entries, 0 to 97838\n",
      "Data columns (total 15 columns):\n",
      "Weekly_Sales    97839 non-null float64\n",
      "IsHoliday       97839 non-null bool\n",
      "Size            97839 non-null float64\n",
      "Temperature     97839 non-null float64\n",
      "Fuel_Price      97839 non-null float64\n",
      "CPI             97839 non-null float64\n",
      "Unemployment    97839 non-null float64\n",
      "Store_1         97839 non-null int64\n",
      "Store_10        97839 non-null int64\n",
      "Store_2         97839 non-null int64\n",
      "Store_3         97839 non-null int64\n",
      "Store_4         97839 non-null int64\n",
      "Store_5         97839 non-null int64\n",
      "Store_6         97839 non-null int64\n",
      "Store_7         97839 non-null int64\n",
      "dtypes: bool(1), float64(6), int64(8)\n",
      "memory usage: 10.5 MB\n"
     ]
    }
   ],
   "source": [
    "walmart.iloc[:,0:15].info()"
   ]
  },
  {
   "cell_type": "markdown",
   "metadata": {},
   "source": [
    "Remember that all the columns from store_1 onwards are actually dummies, so categorical variables. Because we stored the data and loaded it in again, this information was lost. Let's make sure they become categorical again. You can write a for-loop to do this."
   ]
  },
  {
   "cell_type": "code",
   "execution_count": 45,
   "metadata": {},
   "outputs": [],
   "source": [
    "for cat_names in walmart.iloc[:,7:].columns:\n",
    "    walmart[cat_names] = walmart[cat_names].astype('category')"
   ]
  },
  {
   "cell_type": "markdown",
   "metadata": {},
   "source": [
    "Let's make sure IsHoliday is a categorical variable as well."
   ]
  },
  {
   "cell_type": "code",
   "execution_count": 46,
   "metadata": {},
   "outputs": [],
   "source": [
    "walmart['IsHoliday'] = walmart['IsHoliday'].astype('category')"
   ]
  },
  {
   "cell_type": "markdown",
   "metadata": {},
   "source": [
    "Let's check the info again to make sure everything is OK now."
   ]
  },
  {
   "cell_type": "code",
   "execution_count": 47,
   "metadata": {},
   "outputs": [
    {
     "name": "stdout",
     "output_type": "stream",
     "text": [
      "<class 'pandas.core.frame.DataFrame'>\n",
      "RangeIndex: 97839 entries, 0 to 97838\n",
      "Data columns (total 15 columns):\n",
      "Weekly_Sales    97839 non-null float64\n",
      "IsHoliday       97839 non-null category\n",
      "Size            97839 non-null float64\n",
      "Temperature     97839 non-null float64\n",
      "Fuel_Price      97839 non-null float64\n",
      "CPI             97839 non-null float64\n",
      "Unemployment    97839 non-null float64\n",
      "Store_1         97839 non-null category\n",
      "Store_10        97839 non-null category\n",
      "Store_2         97839 non-null category\n",
      "Store_3         97839 non-null category\n",
      "Store_4         97839 non-null category\n",
      "Store_5         97839 non-null category\n",
      "Store_6         97839 non-null category\n",
      "Store_7         97839 non-null category\n",
      "dtypes: category(9), float64(6)\n",
      "memory usage: 5.3 MB\n"
     ]
    }
   ],
   "source": [
    "walmart.iloc[:,0:15].info()"
   ]
  },
  {
   "cell_type": "markdown",
   "metadata": {},
   "source": [
    "Great! you should see that the datatypes have changed to categories now! If you use `.describe` now, you should see only the remaining continuous variables in the data set."
   ]
  },
  {
   "cell_type": "code",
   "execution_count": 48,
   "metadata": {},
   "outputs": [
    {
     "data": {
      "text/plain": [
       "<bound method NDFrame.describe of        Weekly_Sales IsHoliday      Size  Temperature  Fuel_Price       CPI  \\\n",
       "0          24924.50     False  0.283436    -1.301205   -1.560240  0.403490   \n",
       "1          50605.27     False  0.283436    -1.301205   -1.560240  0.403490   \n",
       "2          13740.12     False  0.283436    -1.301205   -1.560240  0.403490   \n",
       "3          39954.04     False  0.283436    -1.301205   -1.560240  0.403490   \n",
       "4          32229.38     False  0.283436    -1.301205   -1.560240  0.403490   \n",
       "5           5749.03     False  0.283436    -1.301205   -1.560240  0.403490   \n",
       "6          21084.08     False  0.283436    -1.301205   -1.560240  0.403490   \n",
       "7          40129.01     False  0.283436    -1.301205   -1.560240  0.403490   \n",
       "8          16930.99     False  0.283436    -1.301205   -1.560240  0.403490   \n",
       "9          30721.50     False  0.283436    -1.301205   -1.560240  0.403490   \n",
       "10         24213.18     False  0.283436    -1.301205   -1.560240  0.403490   \n",
       "11          8449.54     False  0.283436    -1.301205   -1.560240  0.403490   \n",
       "12         41969.29     False  0.283436    -1.301205   -1.560240  0.403490   \n",
       "13         19466.91     False  0.283436    -1.301205   -1.560240  0.403490   \n",
       "14         10217.55     False  0.283436    -1.301205   -1.560240  0.403490   \n",
       "15         13223.76     False  0.283436    -1.301205   -1.560240  0.403490   \n",
       "16          4729.50     False  0.283436    -1.301205   -1.560240  0.403490   \n",
       "17          1947.05     False  0.283436    -1.301205   -1.560240  0.403490   \n",
       "18          5034.10     False  0.283436    -1.301205   -1.560240  0.403490   \n",
       "19          8907.63     False  0.283436    -1.301205   -1.560240  0.403490   \n",
       "20         13623.98     False  0.283436    -1.301205   -1.560240  0.403490   \n",
       "21         24146.49     False  0.283436    -1.301205   -1.560240  0.403490   \n",
       "22          8272.90     False  0.283436    -1.301205   -1.560240  0.403490   \n",
       "23         11609.50     False  0.283436    -1.301205   -1.560240  0.403490   \n",
       "24         11737.12     False  0.283436    -1.301205   -1.560240  0.403490   \n",
       "25          2293.00     False  0.283436    -1.301205   -1.560240  0.403490   \n",
       "26          1085.29     False  0.283436    -1.301205   -1.560240  0.403490   \n",
       "27          7024.95     False  0.283436    -1.301205   -1.560240  0.403490   \n",
       "28          5491.00     False  0.283436    -1.301205   -1.560240  0.403490   \n",
       "29          3455.92     False  0.283436    -1.301205   -1.560240  0.403490   \n",
       "...             ...       ...       ...          ...         ...       ...   \n",
       "97809       2865.00     False -0.120313     0.313984    2.366424 -1.816273   \n",
       "97810      20601.66     False -0.120313     0.313984    2.366424 -1.816273   \n",
       "97811       4589.98     False -0.120313     0.313984    2.366424 -1.816273   \n",
       "97812       4693.25     False -0.120313     0.313984    2.366424 -1.816273   \n",
       "97813         43.80     False -0.120313     0.313984    2.366424 -1.816273   \n",
       "97814      16042.55     False -0.120313     0.313984    2.366424 -1.816273   \n",
       "97815        775.17     False -0.120313     0.313984    2.366424 -1.816273   \n",
       "97816       3180.00     False -0.120313     0.313984    2.366424 -1.816273   \n",
       "97817        296.62     False -0.120313     0.313984    2.366424 -1.816273   \n",
       "97818        558.00     False -0.120313     0.313984    2.366424 -1.816273   \n",
       "97819      11786.49     False -0.120313     0.313984    2.366424 -1.816273   \n",
       "97820      12097.06     False -0.120313     0.313984    2.366424 -1.816273   \n",
       "97821     121126.83     False -0.120313     0.313984    2.366424 -1.816273   \n",
       "97822      33862.98     False -0.120313     0.313984    2.366424 -1.816273   \n",
       "97823      31374.16     False -0.120313     0.313984    2.366424 -1.816273   \n",
       "97824        299.09     False -0.120313     0.313984    2.366424 -1.816273   \n",
       "97825      10095.20     False -0.120313     0.313984    2.366424 -1.816273   \n",
       "97826      22861.31     False -0.120313     0.313984    2.366424 -1.816273   \n",
       "97827        185.24     False -0.120313     0.313984    2.366424 -1.816273   \n",
       "97828       2532.87     False -0.120313     0.313984    2.366424 -1.816273   \n",
       "97829      26972.25     False -0.120313     0.313984    2.366424 -1.816273   \n",
       "97830      14511.07     False -0.120313     0.313984    2.366424 -1.816273   \n",
       "97831      10937.52     False -0.120313     0.313984    2.366424 -1.816273   \n",
       "97832      53198.97     False -0.120313     0.313984    2.366424 -1.816273   \n",
       "97833       1079.06     False -0.120313     0.313984    2.366424 -1.816273   \n",
       "97834        795.76     False -0.120313     0.313984    2.366424 -1.816273   \n",
       "97835      64643.03     False -0.120313     0.313984    2.366424 -1.816273   \n",
       "97836      13966.23     False -0.120313     0.313984    2.366424 -1.816273   \n",
       "97837       4785.28     False -0.120313     0.313984    2.366424 -1.816273   \n",
       "97838        560.02     False -0.120313     0.313984    2.366424 -1.816273   \n",
       "\n",
       "       Unemployment Store_1 Store_10 Store_2          ...           \\\n",
       "0          0.913194       1        0       0          ...            \n",
       "1          0.913194       1        0       0          ...            \n",
       "2          0.913194       1        0       0          ...            \n",
       "3          0.913194       1        0       0          ...            \n",
       "4          0.913194       1        0       0          ...            \n",
       "5          0.913194       1        0       0          ...            \n",
       "6          0.913194       1        0       0          ...            \n",
       "7          0.913194       1        0       0          ...            \n",
       "8          0.913194       1        0       0          ...            \n",
       "9          0.913194       1        0       0          ...            \n",
       "10         0.913194       1        0       0          ...            \n",
       "11         0.913194       1        0       0          ...            \n",
       "12         0.913194       1        0       0          ...            \n",
       "13         0.913194       1        0       0          ...            \n",
       "14         0.913194       1        0       0          ...            \n",
       "15         0.913194       1        0       0          ...            \n",
       "16         0.913194       1        0       0          ...            \n",
       "17         0.913194       1        0       0          ...            \n",
       "18         0.913194       1        0       0          ...            \n",
       "19         0.913194       1        0       0          ...            \n",
       "20         0.913194       1        0       0          ...            \n",
       "21         0.913194       1        0       0          ...            \n",
       "22         0.913194       1        0       0          ...            \n",
       "23         0.913194       1        0       0          ...            \n",
       "24         0.913194       1        0       0          ...            \n",
       "25         0.913194       1        0       0          ...            \n",
       "26         0.913194       1        0       0          ...            \n",
       "27         0.913194       1        0       0          ...            \n",
       "28         0.913194       1        0       0          ...            \n",
       "29         0.913194       1        0       0          ...            \n",
       "...             ...     ...      ...     ...          ...            \n",
       "97809     -0.102084       0        1       0          ...            \n",
       "97810     -0.102084       0        1       0          ...            \n",
       "97811     -0.102084       0        1       0          ...            \n",
       "97812     -0.102084       0        1       0          ...            \n",
       "97813     -0.102084       0        1       0          ...            \n",
       "97814     -0.102084       0        1       0          ...            \n",
       "97815     -0.102084       0        1       0          ...            \n",
       "97816     -0.102084       0        1       0          ...            \n",
       "97817     -0.102084       0        1       0          ...            \n",
       "97818     -0.102084       0        1       0          ...            \n",
       "97819     -0.102084       0        1       0          ...            \n",
       "97820     -0.102084       0        1       0          ...            \n",
       "97821     -0.102084       0        1       0          ...            \n",
       "97822     -0.102084       0        1       0          ...            \n",
       "97823     -0.102084       0        1       0          ...            \n",
       "97824     -0.102084       0        1       0          ...            \n",
       "97825     -0.102084       0        1       0          ...            \n",
       "97826     -0.102084       0        1       0          ...            \n",
       "97827     -0.102084       0        1       0          ...            \n",
       "97828     -0.102084       0        1       0          ...            \n",
       "97829     -0.102084       0        1       0          ...            \n",
       "97830     -0.102084       0        1       0          ...            \n",
       "97831     -0.102084       0        1       0          ...            \n",
       "97832     -0.102084       0        1       0          ...            \n",
       "97833     -0.102084       0        1       0          ...            \n",
       "97834     -0.102084       0        1       0          ...            \n",
       "97835     -0.102084       0        1       0          ...            \n",
       "97836     -0.102084       0        1       0          ...            \n",
       "97837     -0.102084       0        1       0          ...            \n",
       "97838     -0.102084       0        1       0          ...            \n",
       "\n",
       "      binned_markdown_4_41-60% binned_markdown_4_61-80%  \\\n",
       "0                            0                        0   \n",
       "1                            0                        0   \n",
       "2                            0                        0   \n",
       "3                            0                        0   \n",
       "4                            0                        0   \n",
       "5                            0                        0   \n",
       "6                            0                        0   \n",
       "7                            0                        0   \n",
       "8                            0                        0   \n",
       "9                            0                        0   \n",
       "10                           0                        0   \n",
       "11                           0                        0   \n",
       "12                           0                        0   \n",
       "13                           0                        0   \n",
       "14                           0                        0   \n",
       "15                           0                        0   \n",
       "16                           0                        0   \n",
       "17                           0                        0   \n",
       "18                           0                        0   \n",
       "19                           0                        0   \n",
       "20                           0                        0   \n",
       "21                           0                        0   \n",
       "22                           0                        0   \n",
       "23                           0                        0   \n",
       "24                           0                        0   \n",
       "25                           0                        0   \n",
       "26                           0                        0   \n",
       "27                           0                        0   \n",
       "28                           0                        0   \n",
       "29                           0                        0   \n",
       "...                        ...                      ...   \n",
       "97809                        0                        0   \n",
       "97810                        0                        0   \n",
       "97811                        0                        0   \n",
       "97812                        0                        0   \n",
       "97813                        0                        0   \n",
       "97814                        0                        0   \n",
       "97815                        0                        0   \n",
       "97816                        0                        0   \n",
       "97817                        0                        0   \n",
       "97818                        0                        0   \n",
       "97819                        0                        0   \n",
       "97820                        0                        0   \n",
       "97821                        0                        0   \n",
       "97822                        0                        0   \n",
       "97823                        0                        0   \n",
       "97824                        0                        0   \n",
       "97825                        0                        0   \n",
       "97826                        0                        0   \n",
       "97827                        0                        0   \n",
       "97828                        0                        0   \n",
       "97829                        0                        0   \n",
       "97830                        0                        0   \n",
       "97831                        0                        0   \n",
       "97832                        0                        0   \n",
       "97833                        0                        0   \n",
       "97834                        0                        0   \n",
       "97835                        0                        0   \n",
       "97836                        0                        0   \n",
       "97837                        0                        0   \n",
       "97838                        0                        0   \n",
       "\n",
       "      binned_markdown_4_81-100% binned_markdown_4_NaN binned_markdown_5_0-20%  \\\n",
       "0                             0                     1                       0   \n",
       "1                             0                     1                       0   \n",
       "2                             0                     1                       0   \n",
       "3                             0                     1                       0   \n",
       "4                             0                     1                       0   \n",
       "5                             0                     1                       0   \n",
       "6                             0                     1                       0   \n",
       "7                             0                     1                       0   \n",
       "8                             0                     1                       0   \n",
       "9                             0                     1                       0   \n",
       "10                            0                     1                       0   \n",
       "11                            0                     1                       0   \n",
       "12                            0                     1                       0   \n",
       "13                            0                     1                       0   \n",
       "14                            0                     1                       0   \n",
       "15                            0                     1                       0   \n",
       "16                            0                     1                       0   \n",
       "17                            0                     1                       0   \n",
       "18                            0                     1                       0   \n",
       "19                            0                     1                       0   \n",
       "20                            0                     1                       0   \n",
       "21                            0                     1                       0   \n",
       "22                            0                     1                       0   \n",
       "23                            0                     1                       0   \n",
       "24                            0                     1                       0   \n",
       "25                            0                     1                       0   \n",
       "26                            0                     1                       0   \n",
       "27                            0                     1                       0   \n",
       "28                            0                     1                       0   \n",
       "29                            0                     1                       0   \n",
       "...                         ...                   ...                     ...   \n",
       "97809                         0                     0                       1   \n",
       "97810                         0                     0                       1   \n",
       "97811                         0                     0                       1   \n",
       "97812                         0                     0                       1   \n",
       "97813                         0                     0                       1   \n",
       "97814                         0                     0                       1   \n",
       "97815                         0                     0                       1   \n",
       "97816                         0                     0                       1   \n",
       "97817                         0                     0                       1   \n",
       "97818                         0                     0                       1   \n",
       "97819                         0                     0                       1   \n",
       "97820                         0                     0                       1   \n",
       "97821                         0                     0                       1   \n",
       "97822                         0                     0                       1   \n",
       "97823                         0                     0                       1   \n",
       "97824                         0                     0                       1   \n",
       "97825                         0                     0                       1   \n",
       "97826                         0                     0                       1   \n",
       "97827                         0                     0                       1   \n",
       "97828                         0                     0                       1   \n",
       "97829                         0                     0                       1   \n",
       "97830                         0                     0                       1   \n",
       "97831                         0                     0                       1   \n",
       "97832                         0                     0                       1   \n",
       "97833                         0                     0                       1   \n",
       "97834                         0                     0                       1   \n",
       "97835                         0                     0                       1   \n",
       "97836                         0                     0                       1   \n",
       "97837                         0                     0                       1   \n",
       "97838                         0                     0                       1   \n",
       "\n",
       "      binned_markdown_5_21-40% binned_markdown_5_41-60%  \\\n",
       "0                            0                        0   \n",
       "1                            0                        0   \n",
       "2                            0                        0   \n",
       "3                            0                        0   \n",
       "4                            0                        0   \n",
       "5                            0                        0   \n",
       "6                            0                        0   \n",
       "7                            0                        0   \n",
       "8                            0                        0   \n",
       "9                            0                        0   \n",
       "10                           0                        0   \n",
       "11                           0                        0   \n",
       "12                           0                        0   \n",
       "13                           0                        0   \n",
       "14                           0                        0   \n",
       "15                           0                        0   \n",
       "16                           0                        0   \n",
       "17                           0                        0   \n",
       "18                           0                        0   \n",
       "19                           0                        0   \n",
       "20                           0                        0   \n",
       "21                           0                        0   \n",
       "22                           0                        0   \n",
       "23                           0                        0   \n",
       "24                           0                        0   \n",
       "25                           0                        0   \n",
       "26                           0                        0   \n",
       "27                           0                        0   \n",
       "28                           0                        0   \n",
       "29                           0                        0   \n",
       "...                        ...                      ...   \n",
       "97809                        0                        0   \n",
       "97810                        0                        0   \n",
       "97811                        0                        0   \n",
       "97812                        0                        0   \n",
       "97813                        0                        0   \n",
       "97814                        0                        0   \n",
       "97815                        0                        0   \n",
       "97816                        0                        0   \n",
       "97817                        0                        0   \n",
       "97818                        0                        0   \n",
       "97819                        0                        0   \n",
       "97820                        0                        0   \n",
       "97821                        0                        0   \n",
       "97822                        0                        0   \n",
       "97823                        0                        0   \n",
       "97824                        0                        0   \n",
       "97825                        0                        0   \n",
       "97826                        0                        0   \n",
       "97827                        0                        0   \n",
       "97828                        0                        0   \n",
       "97829                        0                        0   \n",
       "97830                        0                        0   \n",
       "97831                        0                        0   \n",
       "97832                        0                        0   \n",
       "97833                        0                        0   \n",
       "97834                        0                        0   \n",
       "97835                        0                        0   \n",
       "97836                        0                        0   \n",
       "97837                        0                        0   \n",
       "97838                        0                        0   \n",
       "\n",
       "      binned_markdown_5_61-80% binned_markdown_5_81-100% binned_markdown_5_NaN  \n",
       "0                            0                         0                     1  \n",
       "1                            0                         0                     1  \n",
       "2                            0                         0                     1  \n",
       "3                            0                         0                     1  \n",
       "4                            0                         0                     1  \n",
       "5                            0                         0                     1  \n",
       "6                            0                         0                     1  \n",
       "7                            0                         0                     1  \n",
       "8                            0                         0                     1  \n",
       "9                            0                         0                     1  \n",
       "10                           0                         0                     1  \n",
       "11                           0                         0                     1  \n",
       "12                           0                         0                     1  \n",
       "13                           0                         0                     1  \n",
       "14                           0                         0                     1  \n",
       "15                           0                         0                     1  \n",
       "16                           0                         0                     1  \n",
       "17                           0                         0                     1  \n",
       "18                           0                         0                     1  \n",
       "19                           0                         0                     1  \n",
       "20                           0                         0                     1  \n",
       "21                           0                         0                     1  \n",
       "22                           0                         0                     1  \n",
       "23                           0                         0                     1  \n",
       "24                           0                         0                     1  \n",
       "25                           0                         0                     1  \n",
       "26                           0                         0                     1  \n",
       "27                           0                         0                     1  \n",
       "28                           0                         0                     1  \n",
       "29                           0                         0                     1  \n",
       "...                        ...                       ...                   ...  \n",
       "97809                        0                         0                     0  \n",
       "97810                        0                         0                     0  \n",
       "97811                        0                         0                     0  \n",
       "97812                        0                         0                     0  \n",
       "97813                        0                         0                     0  \n",
       "97814                        0                         0                     0  \n",
       "97815                        0                         0                     0  \n",
       "97816                        0                         0                     0  \n",
       "97817                        0                         0                     0  \n",
       "97818                        0                         0                     0  \n",
       "97819                        0                         0                     0  \n",
       "97820                        0                         0                     0  \n",
       "97821                        0                         0                     0  \n",
       "97822                        0                         0                     0  \n",
       "97823                        0                         0                     0  \n",
       "97824                        0                         0                     0  \n",
       "97825                        0                         0                     0  \n",
       "97826                        0                         0                     0  \n",
       "97827                        0                         0                     0  \n",
       "97828                        0                         0                     0  \n",
       "97829                        0                         0                     0  \n",
       "97830                        0                         0                     0  \n",
       "97831                        0                         0                     0  \n",
       "97832                        0                         0                     0  \n",
       "97833                        0                         0                     0  \n",
       "97834                        0                         0                     0  \n",
       "97835                        0                         0                     0  \n",
       "97836                        0                         0                     0  \n",
       "97837                        0                         0                     0  \n",
       "97838                        0                         0                     0  \n",
       "\n",
       "[97839 rows x 127 columns]>"
      ]
     },
     "execution_count": 48,
     "metadata": {},
     "output_type": "execute_result"
    }
   ],
   "source": [
    "walmart.describe"
   ]
  },
  {
   "cell_type": "markdown",
   "metadata": {},
   "source": [
    "### Use a for-loop to look at some results for each linear regression model "
   ]
  },
  {
   "cell_type": "markdown",
   "metadata": {},
   "source": [
    "Let's use ordinary least squares in statsmodels at this stage.\n",
    "Import `statsmodels.formula.api` to get started"
   ]
  },
  {
   "cell_type": "code",
   "execution_count": 49,
   "metadata": {},
   "outputs": [],
   "source": [
    "import statsmodels.formula.api as smf"
   ]
  },
  {
   "cell_type": "markdown",
   "metadata": {},
   "source": [
    "Create a loop that for each iteration:\n",
    "* Runs a simple OLS regression between (continuous) independent and dependent variables\n",
    "* Store following values in array for each iteration\n",
    "    * Target variable\n",
    "    * R_squared\n",
    "    * intercept\n",
    "    * slope\n",
    "    * p-value\n",
    "* Comment on each output "
   ]
  },
  {
   "cell_type": "code",
   "execution_count": 50,
   "metadata": {},
   "outputs": [],
   "source": [
    "col_names = walmart.describe().columns.drop(['Weekly_Sales'])"
   ]
  },
  {
   "cell_type": "code",
   "execution_count": 51,
   "metadata": {},
   "outputs": [],
   "source": [
    "results = [['ind_var', 'r_squared', 'intercept', 'slope', 'p-value' ]]"
   ]
  },
  {
   "cell_type": "code",
   "execution_count": 52,
   "metadata": {
    "scrolled": true
   },
   "outputs": [
    {
     "name": "stdout",
     "output_type": "stream",
     "text": [
      "Walmart: Weekly_Sales~Size\n",
      "------------------------------\n",
      "['Size', 0.08577198301194744, 17223.23559081794, 7406.227377928312, 0.0]\n",
      "Walmart: Weekly_Sales~Temperature\n",
      "------------------------------\n",
      "['Temperature', 0.0010145286600627967, 17223.235590817414, 805.4831797034932, 2.160985815440362e-23]\n",
      "Walmart: Weekly_Sales~Fuel_Price\n",
      "------------------------------\n",
      "['Fuel_Price', 0.0008029403665867907, 17223.23559081731, 716.582110323167, 7.649612001196009e-19]\n",
      "Walmart: Weekly_Sales~CPI\n",
      "------------------------------\n",
      "['CPI', 0.03941051535435558, 17223.235590817567, -5020.308120380967, 0.0]\n",
      "Walmart: Weekly_Sales~Unemployment\n",
      "------------------------------\n",
      "['Unemployment', 0.0008517114683156413, 17223.235590816286, 738.0241329740957, 6.825456986730675e-20]\n"
     ]
    }
   ],
   "source": [
    "for idx, val in enumerate(col_names):\n",
    "    print (\"Walmart: Weekly_Sales~\" + val)\n",
    "    print (\"------------------------------\")\n",
    "\n",
    "    f = 'Weekly_Sales~' + val\n",
    "    model = smf.ols(formula=f, data=walmart).fit()\n",
    "    X_new = pd.DataFrame({val: [walmart[val].min(), walmart[val].max()]});\n",
    "    preds = model.predict(X_new)\n",
    "    results.append([val, model.rsquared, model.params[0], model.params[1], model.pvalues[1] ])\n",
    "    print(results[idx+1])"
   ]
  },
  {
   "cell_type": "code",
   "execution_count": 53,
   "metadata": {},
   "outputs": [
    {
     "data": {
      "text/html": [
       "<div>\n",
       "<style scoped>\n",
       "    .dataframe tbody tr th:only-of-type {\n",
       "        vertical-align: middle;\n",
       "    }\n",
       "\n",
       "    .dataframe tbody tr th {\n",
       "        vertical-align: top;\n",
       "    }\n",
       "\n",
       "    .dataframe thead th {\n",
       "        text-align: right;\n",
       "    }\n",
       "</style>\n",
       "<table border=\"1\" class=\"dataframe\">\n",
       "  <thead>\n",
       "    <tr style=\"text-align: right;\">\n",
       "      <th></th>\n",
       "      <th>0</th>\n",
       "      <th>1</th>\n",
       "      <th>2</th>\n",
       "      <th>3</th>\n",
       "      <th>4</th>\n",
       "    </tr>\n",
       "  </thead>\n",
       "  <tbody>\n",
       "    <tr>\n",
       "      <th>0</th>\n",
       "      <td>ind_var</td>\n",
       "      <td>r_squared</td>\n",
       "      <td>intercept</td>\n",
       "      <td>slope</td>\n",
       "      <td>p-value</td>\n",
       "    </tr>\n",
       "    <tr>\n",
       "      <th>1</th>\n",
       "      <td>Size</td>\n",
       "      <td>0.085772</td>\n",
       "      <td>17223.2</td>\n",
       "      <td>7406.23</td>\n",
       "      <td>0</td>\n",
       "    </tr>\n",
       "    <tr>\n",
       "      <th>2</th>\n",
       "      <td>Temperature</td>\n",
       "      <td>0.00101453</td>\n",
       "      <td>17223.2</td>\n",
       "      <td>805.483</td>\n",
       "      <td>2.16099e-23</td>\n",
       "    </tr>\n",
       "    <tr>\n",
       "      <th>3</th>\n",
       "      <td>Fuel_Price</td>\n",
       "      <td>0.00080294</td>\n",
       "      <td>17223.2</td>\n",
       "      <td>716.582</td>\n",
       "      <td>7.64961e-19</td>\n",
       "    </tr>\n",
       "    <tr>\n",
       "      <th>4</th>\n",
       "      <td>CPI</td>\n",
       "      <td>0.0394105</td>\n",
       "      <td>17223.2</td>\n",
       "      <td>-5020.31</td>\n",
       "      <td>0</td>\n",
       "    </tr>\n",
       "    <tr>\n",
       "      <th>5</th>\n",
       "      <td>Unemployment</td>\n",
       "      <td>0.000851711</td>\n",
       "      <td>17223.2</td>\n",
       "      <td>738.024</td>\n",
       "      <td>6.82546e-20</td>\n",
       "    </tr>\n",
       "  </tbody>\n",
       "</table>\n",
       "</div>"
      ],
      "text/plain": [
       "              0            1          2        3            4\n",
       "0       ind_var    r_squared  intercept    slope      p-value\n",
       "1          Size     0.085772    17223.2  7406.23            0\n",
       "2   Temperature   0.00101453    17223.2  805.483  2.16099e-23\n",
       "3    Fuel_Price   0.00080294    17223.2  716.582  7.64961e-19\n",
       "4           CPI    0.0394105    17223.2 -5020.31            0\n",
       "5  Unemployment  0.000851711    17223.2  738.024  6.82546e-20"
      ]
     },
     "execution_count": 53,
     "metadata": {},
     "output_type": "execute_result"
    }
   ],
   "source": [
    "# before = pd.DataFrame(results);\n",
    "pd.DataFrame(results)"
   ]
  },
  {
   "cell_type": "markdown",
   "metadata": {},
   "source": [
    "Think about your results. \n",
    "- What do the parameter estimates mean? Do they make sense? \n",
    "- What do the p-values tell us?\n",
    "- What does the R-squared tell us?"
   ]
  },
  {
   "cell_type": "markdown",
   "metadata": {},
   "source": [
    "## Our R-squared values are low, let's try to solve this\n",
    "\n",
    "Something we haven't considered before, is taking log-transformations to make certain data less skewed. Let's take a quick look at our summarizing histograms. "
   ]
  },
  {
   "cell_type": "code",
   "execution_count": 54,
   "metadata": {},
   "outputs": [
    {
     "data": {
      "image/png": "[encoded data removed]",
      "text/plain": [
       "<Figure size 432x432 with 6 Axes>"
      ]
     },
     "metadata": {
      "needs_background": "light"
     },
     "output_type": "display_data"
    }
   ],
   "source": [
    "walmart.hist(figsize= [6,6]);"
   ]
  },
  {
   "cell_type": "markdown",
   "metadata": {},
   "source": [
    "Interestingly the most problematic variable in terms of skewness seems to be weekly sales itself. Does it make sense to log-transform this variable? It definitely doesn't hurt to try! Let's have a look below. what do you see?"
   ]
  },
  {
   "cell_type": "code",
   "execution_count": 55,
   "metadata": {},
   "outputs": [
    {
     "name": "stderr",
     "output_type": "stream",
     "text": [
      "C:\\Users\\Sid\\Miniconda3\\envs\\learn-env\\lib\\site-packages\\ipykernel_launcher.py:1: RuntimeWarning: divide by zero encountered in log\n",
      "  \"\"\"Entry point for launching an IPython kernel.\n",
      "C:\\Users\\Sid\\Miniconda3\\envs\\learn-env\\lib\\site-packages\\ipykernel_launcher.py:1: RuntimeWarning: invalid value encountered in log\n",
      "  \"\"\"Entry point for launching an IPython kernel.\n"
     ]
    },
    {
     "data": {
      "text/plain": [
       "count    9.763100e+04\n",
       "mean             -inf\n",
       "std               NaN\n",
       "min              -inf\n",
       "25%      7.765571e+00\n",
       "50%      8.948268e+00\n",
       "75%      9.947998e+00\n",
       "max      1.344893e+01\n",
       "Name: Weekly_Sales, dtype: float64"
      ]
     },
     "execution_count": 55,
     "metadata": {},
     "output_type": "execute_result"
    }
   ],
   "source": [
    "np.log(walmart[\"Weekly_Sales\"]).describe()"
   ]
  },
  {
   "cell_type": "markdown",
   "metadata": {},
   "source": [
    "That's right, we have some negative `Weekly_Sales` values! Let's check how many we have."
   ]
  },
  {
   "cell_type": "code",
   "execution_count": 56,
   "metadata": {},
   "outputs": [
    {
     "data": {
      "text/plain": [
       "224"
      ]
     },
     "execution_count": 56,
     "metadata": {},
     "output_type": "execute_result"
    }
   ],
   "source": [
    "sum(walmart[\"Weekly_Sales\"]<=0)"
   ]
  },
  {
   "cell_type": "markdown",
   "metadata": {},
   "source": [
    "This seems negligibe considering we have almost 100,000 observations. Let's remove these 224 rows so we can take the log."
   ]
  },
  {
   "cell_type": "code",
   "execution_count": 57,
   "metadata": {},
   "outputs": [],
   "source": [
    "walmart_log = walmart[walmart[\"Weekly_Sales\"]>0]"
   ]
  },
  {
   "cell_type": "markdown",
   "metadata": {},
   "source": [
    "**Note that only Weekly_Sales col is being logged. Not all the cols. This is despite that we change the name of the entire df from \"walmart\" to \"walmart_log\"**"
   ]
  },
  {
   "cell_type": "code",
   "execution_count": 58,
   "metadata": {
    "scrolled": true
   },
   "outputs": [
    {
     "name": "stderr",
     "output_type": "stream",
     "text": [
      "C:\\Users\\Sid\\Miniconda3\\envs\\learn-env\\lib\\site-packages\\ipykernel_launcher.py:1: SettingWithCopyWarning: \n",
      "A value is trying to be set on a copy of a slice from a DataFrame.\n",
      "Try using .loc[row_indexer,col_indexer] = value instead\n",
      "\n",
      "See the caveats in the documentation: http://pandas.pydata.org/pandas-docs/stable/indexing.html#indexing-view-versus-copy\n",
      "  \"\"\"Entry point for launching an IPython kernel.\n"
     ]
    }
   ],
   "source": [
    "walmart_log[\"Weekly_Sales\"]= np.log(walmart_log[\"Weekly_Sales\"])"
   ]
  },
  {
   "cell_type": "markdown",
   "metadata": {},
   "source": [
    "Let's have another look at the histogram. What do you see?"
   ]
  },
  {
   "cell_type": "code",
   "execution_count": 59,
   "metadata": {},
   "outputs": [
    {
     "data": {
      "image/png": "[encoded data removed]",
      "text/plain": [
       "<Figure size 432x288 with 1 Axes>"
      ]
     },
     "metadata": {
      "needs_background": "light"
     },
     "output_type": "display_data"
    }
   ],
   "source": [
    "walmart_log[\"Weekly_Sales\"].hist();\n",
    "# it's less skewed now"
   ]
  },
  {
   "cell_type": "markdown",
   "metadata": {},
   "source": [
    "Now let's repeat what we did before, yet now with the log(Weekly_Sales) as the target."
   ]
  },
  {
   "cell_type": "code",
   "execution_count": 60,
   "metadata": {},
   "outputs": [
    {
     "name": "stdout",
     "output_type": "stream",
     "text": [
      "Walmart: Weekly_Sales~Size\n",
      "------------------------------\n",
      "['Size', 0.10780975018477823, 8.671485180985357, 0.6116185906203371, 0.0]\n",
      "Walmart: Weekly_Sales~Temperature\n",
      "------------------------------\n",
      "['Temperature', 0.0007654996204090603, 8.671603611690786, 0.05156909449731861, 5.340017290978152e-18]\n",
      "Walmart: Weekly_Sales~Fuel_Price\n",
      "------------------------------\n",
      "['Fuel_Price', 0.00044928127033860843, 8.671613962769431, 0.039492326569698255, 3.517664177655041e-11]\n",
      "Walmart: Weekly_Sales~CPI\n",
      "------------------------------\n",
      "['CPI', 0.025949085295407515, 8.671703573822947, -0.3002071974539118, 0.0]\n",
      "Walmart: Weekly_Sales~Unemployment\n",
      "------------------------------\n",
      "['Unemployment', 0.00027696050787784365, 8.671620744194517, 0.031013680769407137, 1.9943786067178015e-07]\n"
     ]
    }
   ],
   "source": [
    "col_names = walmart_log.describe().columns.drop(['Weekly_Sales'])\n",
    "results_log = [['ind_var', 'r_squared', 'intercept', 'slope', 'p-value' ]]\n",
    "for idx, val in enumerate(col_names):\n",
    "    print (\"Walmart: Weekly_Sales~\" + val)\n",
    "    print (\"------------------------------\")\n",
    "\n",
    "    f = 'Weekly_Sales~' + val\n",
    "    model = smf.ols(formula=f, data=walmart_log).fit()\n",
    "    X_new = pd.DataFrame({val: [walmart_log[val].min(), walmart_log[val].max()]});\n",
    "    preds = model.predict(X_new)\n",
    "    results_log.append([val, model.rsquared, model.params[0], model.params[1], model.pvalues[1] ])\n",
    "    print(results_log[idx+1])"
   ]
  },
  {
   "cell_type": "code",
   "execution_count": 64,
   "metadata": {},
   "outputs": [
    {
     "data": {
      "text/html": [
       "<div>\n",
       "<style scoped>\n",
       "    .dataframe tbody tr th:only-of-type {\n",
       "        vertical-align: middle;\n",
       "    }\n",
       "\n",
       "    .dataframe tbody tr th {\n",
       "        vertical-align: top;\n",
       "    }\n",
       "\n",
       "    .dataframe thead th {\n",
       "        text-align: right;\n",
       "    }\n",
       "</style>\n",
       "<table border=\"1\" class=\"dataframe\">\n",
       "  <thead>\n",
       "    <tr style=\"text-align: right;\">\n",
       "      <th></th>\n",
       "      <th>0</th>\n",
       "      <th>1</th>\n",
       "      <th>2</th>\n",
       "      <th>3</th>\n",
       "      <th>4</th>\n",
       "    </tr>\n",
       "  </thead>\n",
       "  <tbody>\n",
       "    <tr>\n",
       "      <th>0</th>\n",
       "      <td>ind_var</td>\n",
       "      <td>r_squared</td>\n",
       "      <td>intercept</td>\n",
       "      <td>slope</td>\n",
       "      <td>p-value</td>\n",
       "    </tr>\n",
       "    <tr>\n",
       "      <th>1</th>\n",
       "      <td>Size</td>\n",
       "      <td>0.085772</td>\n",
       "      <td>17223.2</td>\n",
       "      <td>7406.23</td>\n",
       "      <td>0</td>\n",
       "    </tr>\n",
       "    <tr>\n",
       "      <th>2</th>\n",
       "      <td>Temperature</td>\n",
       "      <td>0.00101453</td>\n",
       "      <td>17223.2</td>\n",
       "      <td>805.483</td>\n",
       "      <td>2.16099e-23</td>\n",
       "    </tr>\n",
       "    <tr>\n",
       "      <th>3</th>\n",
       "      <td>Fuel_Price</td>\n",
       "      <td>0.00080294</td>\n",
       "      <td>17223.2</td>\n",
       "      <td>716.582</td>\n",
       "      <td>7.64961e-19</td>\n",
       "    </tr>\n",
       "    <tr>\n",
       "      <th>4</th>\n",
       "      <td>CPI</td>\n",
       "      <td>0.0394105</td>\n",
       "      <td>17223.2</td>\n",
       "      <td>-5020.31</td>\n",
       "      <td>0</td>\n",
       "    </tr>\n",
       "    <tr>\n",
       "      <th>5</th>\n",
       "      <td>Unemployment</td>\n",
       "      <td>0.000851711</td>\n",
       "      <td>17223.2</td>\n",
       "      <td>738.024</td>\n",
       "      <td>6.82546e-20</td>\n",
       "    </tr>\n",
       "  </tbody>\n",
       "</table>\n",
       "</div>"
      ],
      "text/plain": [
       "              0            1          2        3            4\n",
       "0       ind_var    r_squared  intercept    slope      p-value\n",
       "1          Size     0.085772    17223.2  7406.23            0\n",
       "2   Temperature   0.00101453    17223.2  805.483  2.16099e-23\n",
       "3    Fuel_Price   0.00080294    17223.2  716.582  7.64961e-19\n",
       "4           CPI    0.0394105    17223.2 -5020.31            0\n",
       "5  Unemployment  0.000851711    17223.2  738.024  6.82546e-20"
      ]
     },
     "execution_count": 64,
     "metadata": {},
     "output_type": "execute_result"
    }
   ],
   "source": [
    "pd.DataFrame(results) ## this is the same df as the last for loop"
   ]
  },
  {
   "cell_type": "code",
   "execution_count": 65,
   "metadata": {},
   "outputs": [
    {
     "data": {
      "text/html": [
       "<div>\n",
       "<style scoped>\n",
       "    .dataframe tbody tr th:only-of-type {\n",
       "        vertical-align: middle;\n",
       "    }\n",
       "\n",
       "    .dataframe tbody tr th {\n",
       "        vertical-align: top;\n",
       "    }\n",
       "\n",
       "    .dataframe thead th {\n",
       "        text-align: right;\n",
       "    }\n",
       "</style>\n",
       "<table border=\"1\" class=\"dataframe\">\n",
       "  <thead>\n",
       "    <tr style=\"text-align: right;\">\n",
       "      <th></th>\n",
       "      <th>0</th>\n",
       "      <th>1</th>\n",
       "      <th>2</th>\n",
       "      <th>3</th>\n",
       "      <th>4</th>\n",
       "    </tr>\n",
       "  </thead>\n",
       "  <tbody>\n",
       "    <tr>\n",
       "      <th>0</th>\n",
       "      <td>ind_var</td>\n",
       "      <td>r_squared</td>\n",
       "      <td>intercept</td>\n",
       "      <td>slope</td>\n",
       "      <td>p-value</td>\n",
       "    </tr>\n",
       "    <tr>\n",
       "      <th>1</th>\n",
       "      <td>Size</td>\n",
       "      <td>0.10781</td>\n",
       "      <td>8.67149</td>\n",
       "      <td>0.611619</td>\n",
       "      <td>0</td>\n",
       "    </tr>\n",
       "    <tr>\n",
       "      <th>2</th>\n",
       "      <td>Temperature</td>\n",
       "      <td>0.0007655</td>\n",
       "      <td>8.6716</td>\n",
       "      <td>0.0515691</td>\n",
       "      <td>5.34002e-18</td>\n",
       "    </tr>\n",
       "    <tr>\n",
       "      <th>3</th>\n",
       "      <td>Fuel_Price</td>\n",
       "      <td>0.000449281</td>\n",
       "      <td>8.67161</td>\n",
       "      <td>0.0394923</td>\n",
       "      <td>3.51766e-11</td>\n",
       "    </tr>\n",
       "    <tr>\n",
       "      <th>4</th>\n",
       "      <td>CPI</td>\n",
       "      <td>0.0259491</td>\n",
       "      <td>8.6717</td>\n",
       "      <td>-0.300207</td>\n",
       "      <td>0</td>\n",
       "    </tr>\n",
       "    <tr>\n",
       "      <th>5</th>\n",
       "      <td>Unemployment</td>\n",
       "      <td>0.000276961</td>\n",
       "      <td>8.67162</td>\n",
       "      <td>0.0310137</td>\n",
       "      <td>1.99438e-07</td>\n",
       "    </tr>\n",
       "  </tbody>\n",
       "</table>\n",
       "</div>"
      ],
      "text/plain": [
       "              0            1          2          3            4\n",
       "0       ind_var    r_squared  intercept      slope      p-value\n",
       "1          Size      0.10781    8.67149   0.611619            0\n",
       "2   Temperature    0.0007655     8.6716  0.0515691  5.34002e-18\n",
       "3    Fuel_Price  0.000449281    8.67161  0.0394923  3.51766e-11\n",
       "4           CPI    0.0259491     8.6717  -0.300207            0\n",
       "5  Unemployment  0.000276961    8.67162  0.0310137  1.99438e-07"
      ]
     },
     "execution_count": 65,
     "metadata": {},
     "output_type": "execute_result"
    }
   ],
   "source": [
    "pd.DataFrame(results_log) ## this is the new one, with the Weekly Sales log transformed?"
   ]
  },
  {
   "cell_type": "markdown",
   "metadata": {},
   "source": [
    "- compare and contract the results with the results obtained when we did not take the log(sales)\n",
    "- Which one would you want to proceed with based on this?"
   ]
  },
  {
   "cell_type": "markdown",
   "metadata": {},
   "source": [
    "## Build a model with each categorical variable as a predictor"
   ]
  },
  {
   "cell_type": "markdown",
   "metadata": {},
   "source": [
    "- Use it on the log-transformed, and the regular `Weekly_Sales`\n",
    "- put all categories for one categorical variable in 1 model, so we want 4 models.\n",
    "- remember that we have 4 categorical variables: `Store`,  `Dept`, `IsHoliday` and `Type`( we're for now ignoring the `binned_markdown` categories, you can add then later on as an extension)\n",
    "- IMPORTANT: remember that we made dummies for `Type`, `Dept` and `Store` columns. You'll need to drop 1 column for each of these if you want good results. The reason for this is that singularity will occur and . This is related to what we mentioned earlier on in section 11. Don't worry about the \"why\" for now, just make sure to drop 1 column and you should be fine! The parameter value for the dropper \"base category\" will be absorbed in the intercept."
   ]
  },
  {
   "cell_type": "code",
   "execution_count": null,
   "metadata": {},
   "outputs": [],
   "source": [
    "cols_store = walmart.columns[7:16]\n",
    "cols_dept = walmart.columns[17:95]\n",
    "cols_type = walmart.columns[96:97]\n",
    "cols_holiday = walmart.columns[1:2]"
   ]
  },
  {
   "cell_type": "code",
   "execution_count": null,
   "metadata": {},
   "outputs": [],
   "source": [
    "cols = [cols_store, cols_dept , cols_type, cols_holiday]\n",
    "for col in cols:\n",
    "    sum_cols = \"+\".join(col)\n",
    "    form = \"Weekly_Sales ~\" + sum_cols\n",
    "    model = smf.ols(formula= form, data= walmart).fit()\n",
    "    print(model.summary())"
   ]
  },
  {
   "cell_type": "code",
   "execution_count": null,
   "metadata": {},
   "outputs": [],
   "source": []
  },
  {
   "cell_type": "markdown",
   "metadata": {},
   "source": [
    "## Let's drop a few columns in our data set based on our findings"
   ]
  },
  {
   "cell_type": "markdown",
   "metadata": {},
   "source": [
    "- Let's stick with our `walmart_log` data, as it seemed like it was generally resulting in higher R-squared values.\n",
    "- Let's drop continuous variables which resulted in single linear models with a R-squared value <0.01 for the `walmart_log models`.\n",
    "- Let's make sure to drop 1 column for each categorical variable we end up using."
   ]
  },
  {
   "cell_type": "code",
   "execution_count": null,
   "metadata": {},
   "outputs": [],
   "source": []
  },
  {
   "cell_type": "markdown",
   "metadata": {},
   "source": [
    "## From here on out, use Feature ranking with recursive feature elimination"
   ]
  },
  {
   "cell_type": "markdown",
   "metadata": {},
   "source": [
    "Let's create a matrix X and y containing the predictors and target for our model. Let's use Scikit-Learn's RFE function, documentation again [here](http://scikit-learn.org/stable/modules/classes.html#module-sklearn.feature_selection)."
   ]
  },
  {
   "cell_type": "code",
   "execution_count": null,
   "metadata": {},
   "outputs": [],
   "source": []
  },
  {
   "cell_type": "markdown",
   "metadata": {},
   "source": [
    "Let's create a for loop using `RFE` where we look at the 5, 15, 25,... up until 85 best features to be selected according to the feature ranking algorithm. Store the R-squared and the adjusted-R-squareds for all these models in a list. What do you see? No need to perform a train-test-split for now- that will be next!"
   ]
  },
  {
   "cell_type": "code",
   "execution_count": null,
   "metadata": {},
   "outputs": [],
   "source": []
  },
  {
   "cell_type": "markdown",
   "metadata": {},
   "source": [
    "The difference between $R^2$ and adjusted $R^2$ is negligible, and seems to continue to be going up as we include more features. Remember though that we're likely overfitting when including 85 features. In order to identify this, let's rerun a similar experiment, but using a train test split!"
   ]
  },
  {
   "cell_type": "markdown",
   "metadata": {},
   "source": [
    "## Including a train-test-split"
   ]
  },
  {
   "cell_type": "markdown",
   "metadata": {},
   "source": [
    "Let's create a similar for loop to what we did before. Except, this time\n",
    "- Use a train test split of 20-80\n",
    "- Instead of looking at $R^2$ and $R^2_{adj}$, look at the MSE for train and test"
   ]
  },
  {
   "cell_type": "code",
   "execution_count": null,
   "metadata": {},
   "outputs": [],
   "source": []
  },
  {
   "cell_type": "markdown",
   "metadata": {},
   "source": [
    "What we see is that both MSE keeps improving when we add variables. It seems like a bigger model improves our performance, and the test and train performance don't really diverge. It is important to note however that is not an unusual result. The performance measures used typically will show this type of behavior. In order to really be able to balance the curse of dimensionality (which will become more important in machine learning), we need other information criteria such as AIC and BIC. You'll learn about them later! Now, let's perform cross-validation on our model with 85 predictors!"
   ]
  },
  {
   "cell_type": "markdown",
   "metadata": {},
   "source": [
    "## 10-fold cross validation with the final model"
   ]
  },
  {
   "cell_type": "markdown",
   "metadata": {},
   "source": [
    "Create a 10-fold cross-validation and store the (negative) MSEs "
   ]
  },
  {
   "cell_type": "code",
   "execution_count": null,
   "metadata": {},
   "outputs": [],
   "source": []
  },
  {
   "cell_type": "markdown",
   "metadata": {},
   "source": [
    "Running our 10-fold cross-validation highlights some issues for sure! Have a look at your list of 10 MSEs. Where most MSEs are manageable, some are very high. The cure of dimensionality is already pretty clear here. The issue is that we have many (dummy) categorical variables that result in columns with many zeroes and few ones. This means that for some folds, there is a risk of ending up with columns that almost exclusively contain 0's for prediction, which might cause weird results. Looking at this, a model with less predictors might make sense again. This is where we conclude for now. It's up to you now to explore other model options! Additionally, it is encouraged to try some of the \"level up\" exercises below. Good luck!"
   ]
  },
  {
   "cell_type": "markdown",
   "metadata": {},
   "source": [
    "# Level up - Optional\n",
    "\n",
    "\n",
    "- You could argue that **throwing out negative sales figures is problematic**, because these are probably the types of observations a stakeholder would be very interested in knowing. Repeat your analysis, but now, instead of removing the rows with negative sales, replace their sales with a slightly positive value (eg. 1), so they have an existing and finite value. Does the result change?\n",
    "\n",
    "- Go back and log-transform `CPI` and `Size` before standardizing it (we did this a few lessons ago). Look at the histogram and see if there is an improvement.\n",
    "- You might have noticed we ignored `binned_markdown` throughout. Add it in the model and see how it changes the results!\n",
    "\n",
    "- Try other feature selection methods such as stepwise selection and forward selection seen in section 11.\n"
   ]
  },
  {
   "cell_type": "markdown",
   "metadata": {},
   "source": [
    "## Summary"
   ]
  },
  {
   "cell_type": "markdown",
   "metadata": {},
   "source": [
    "Congratulations, you made it to the end of the last section in this module. Now it's time for a big project on multiple linear regression!"
   ]
  }
 ],
 "metadata": {
  "kernelspec": {
   "display_name": "Python [conda env:learn-env] *",
   "language": "python",
   "name": "conda-env-learn-env-py"
  },
  "language_info": {
   "codemirror_mode": {
    "name": "ipython",
    "version": 3
   },
   "file_extension": ".py",
   "mimetype": "text/x-python",
   "name": "python",
   "nbconvert_exporter": "python",
   "pygments_lexer": "ipython3",
   "version": "3.6.6"
  }
 },
 "nbformat": 4,
 "nbformat_minor": 2
}
